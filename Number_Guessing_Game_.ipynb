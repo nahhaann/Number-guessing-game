{
  "nbformat": 4,
  "nbformat_minor": 0,
  "metadata": {
    "colab": {
      "provenance": []
    },
    "kernelspec": {
      "name": "python3",
      "display_name": "Python 3"
    },
    "language_info": {
      "name": "python"
    }
  },
  "cells": [
    {
      "cell_type": "code",
      "source": [
        "import random\n",
        "\n",
        "lower_limit = int(input(\"Enter the lower limit: \"))\n",
        "upper_limit = int(input(\"Enter the upper limit: \"))\n",
        "\n",
        "if lower_limit >= upper_limit:\n",
        "    print(\"Invalid input: Lower limit must be less than the upper limit.\")\n",
        "else:\n",
        "    random_number = random.randint(lower_limit, upper_limit)\n",
        "    guesses_left = 7\n",
        "\n",
        "    print(f\"Guess a number between {lower_limit} and {upper_limit}. You have {guesses_left} guesses.\")\n",
        "\n",
        "    while guesses_left > 0:\n",
        "        try:\n",
        "            guess = int(input(\"Your guess: \"))\n",
        "        except ValueError:\n",
        "            print(\"Invalid input. Please enter a number.\")\n",
        "            continue\n",
        "\n",
        "        if guess < random_number:\n",
        "            print(\"Too low!\")\n",
        "        elif guess > random_number:\n",
        "            print(\"Too high!\")\n",
        "        else:\n",
        "            print(f\"Congratulations! You guessed the number {random_number} in {7 - guesses_left} tries.\")\n",
        "            break\n",
        "\n",
        "        guesses_left -= 1\n",
        "        print(f\"You have {guesses_left} guesses left.\")\n",
        "\n",
        "    if guesses_left == 0:\n",
        "        print(f\"You ran out of guesses. The number was {random_number}.\")\n"
      ],
      "metadata": {
        "id": "9vpu4AiJEl7q",
        "colab": {
          "base_uri": "https://localhost:8080/"
        },
        "outputId": "8d99010a-c392-4ad2-f060-87caa8256ada"
      },
      "execution_count": 1,
      "outputs": [
        {
          "output_type": "stream",
          "name": "stdout",
          "text": [
            "Enter the lower limit: 0\n",
            "Enter the upper limit: 10\n",
            "Guess a number between 0 and 10. You have 7 guesses.\n",
            "Your guess: 3\n",
            "Too high!\n",
            "You have 6 guesses left.\n",
            "Your guess: 2\n",
            "Congratulations! You guessed the number 2 in 1 tries.\n"
          ]
        }
      ]
    }
  ]
}